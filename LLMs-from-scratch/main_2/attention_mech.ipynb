{
 "cells": [
  {
   "cell_type": "code",
   "execution_count": 1,
   "metadata": {},
   "outputs": [
    {
     "name": "stdout",
     "output_type": "stream",
     "text": [
      "torch version: 2.1.2\n"
     ]
    }
   ],
   "source": [
    "from importlib.metadata import version\n",
    "print(\"torch version:\", version(\"torch\"))"
   ]
  },
  {
   "cell_type": "markdown",
   "metadata": {},
   "source": [
    "#### Stage 1 - **Building a LLM** \n",
    "1. Data preparation & sampling\n",
    "2. ***Attention mechanism*** <----------------\n",
    "3. LLM architecture\n",
    "\n",
    "4. Pretraining\n",
    "\n",
    "#### Stage 2 - **Foundation model**\n",
    "5. Training loop \n",
    "6. Model evaluation\n",
    "7. Load pretrained weights\n",
    "\n",
    "8. Finetuning  -> dataset with class labels - classifier\n",
    "              |-> instruction dataset - personal assistant\n",
    "\n"
   ]
  },
  {
   "cell_type": "markdown",
   "metadata": {},
   "source": [
    "1. Simplified self-attention: A simplified self-attention technique to introduce the broader idea.\n",
    "2. Self - attention: Self-attention with trainable weights that form the basis of the mechanism used in LLMs.\n",
    "3. Causal attention: A type of self-attention used in LLMs that allows a model to consider only previous and current inputs in a sequence, ensuring temporal order during the text generation.\n",
    "4. Multi-head attention: An extension of self-attention and casual attention that enables the model to simultaneously attend to info from different rep subspaces."
   ]
  },
  {
   "cell_type": "code",
   "execution_count": null,
   "metadata": {},
   "outputs": [],
   "source": []
  }
 ],
 "metadata": {
  "kernelspec": {
   "display_name": "ml",
   "language": "python",
   "name": "python3"
  },
  "language_info": {
   "codemirror_mode": {
    "name": "ipython",
    "version": 3
   },
   "file_extension": ".py",
   "mimetype": "text/x-python",
   "name": "python",
   "nbconvert_exporter": "python",
   "pygments_lexer": "ipython3",
   "version": "3.9.18"
  }
 },
 "nbformat": 4,
 "nbformat_minor": 2
}
