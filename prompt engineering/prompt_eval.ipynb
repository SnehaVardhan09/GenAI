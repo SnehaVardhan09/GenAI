{
 "cells": [
  {
   "cell_type": "code",
   "execution_count": null,
   "metadata": {},
   "outputs": [],
   "source": [
    "import ollama"
   ]
  },
  {
   "cell_type": "code",
   "execution_count": null,
   "metadata": {},
   "outputs": [],
   "source": [
    "def llm_call(prompt:str, system_prompt='' ,model=\"gemma:2b\", prefill=\"\" ):\n",
    "    \"\"\"\n",
    "    \"\"\"\n",
    "    messages = [\n",
    "                    {\"role\": \"system\", \"content\" : system_prompt},\n",
    "                    {\"role\": \"user\",    \"content\" : prompt},\n",
    "                    {\"role\": \"assistant\", \"content\": prefill}\n",
    "               ]   \n",
    "    \n",
    "    response = ollama.chat(model=model,messages=messages,stream= False, options= {'num_predict':512, 'temperature':0.1})\n",
    "    \n",
    "    return response['message']['content'] "
   ]
  }
 ],
 "metadata": {
  "kernelspec": {
   "display_name": "AIagents",
   "language": "python",
   "name": "python3"
  },
  "language_info": {
   "name": "python",
   "version": "3.10.15"
  }
 },
 "nbformat": 4,
 "nbformat_minor": 2
}
