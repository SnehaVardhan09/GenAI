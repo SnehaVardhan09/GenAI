{
 "cells": [
  {
   "cell_type": "markdown",
   "metadata": {},
   "source": [
    "# Create and run a RAG pipeline"
   ]
  },
  {
   "cell_type": "markdown",
   "metadata": {},
   "source": [
    "RAG - Retrieval Augmented Generation - Take info pass it to LLM so it can generate o/p's\n",
    "\n",
    "* Retrieval - relavent info given a query\n",
    "* Augmentation - taking relavent info and augment our input to an LLM relevant info\n",
    "* Generation - Take the first two steps and pass them to our LLM for Generation "
   ]
  },
  {
   "cell_type": "markdown",
   "metadata": {},
   "source": [
    "## WHY RAG?\n",
    "\n",
    "Improve Generation o/p of LLMs.\n",
    "\n",
    "1. Prevent hallucinations - Generate good text that isnt factual\n",
    "2. Work with custom data. "
   ]
  },
  {
   "cell_type": "markdown",
   "metadata": {},
   "source": [
    "## RAG used for?\n",
    "\n",
    "* Customer support Q&A\n",
    "* Email chain analysis \n",
    "* Textbook Q&A"
   ]
  },
  {
   "cell_type": "markdown",
   "metadata": {},
   "source": [
    "## Why local?\n",
    "\n",
    "Privacy, speed(because No API), cost, No vendor lockin"
   ]
  },
  {
   "cell_type": "code",
   "execution_count": 2,
   "metadata": {},
   "outputs": [
    {
     "name": "stdout",
     "output_type": "stream",
     "text": [
      "Tue Mar 26 17:18:19 2024       \n",
      "+-----------------------------------------------------------------------------+\n",
      "| NVIDIA-SMI 466.77       Driver Version: 466.77       CUDA Version: 11.3     |\n",
      "|-------------------------------+----------------------+----------------------+\n",
      "| GPU  Name            TCC/WDDM | Bus-Id        Disp.A | Volatile Uncorr. ECC |\n",
      "| Fan  Temp  Perf  Pwr:Usage/Cap|         Memory-Usage | GPU-Util  Compute M. |\n",
      "|                               |                      |               MIG M. |\n",
      "|===============================+======================+======================|\n",
      "|   0  NVIDIA GeForce ... WDDM  | 00000000:01:00.0  On |                  N/A |\n",
      "| N/A   57C    P8     5W /  N/A |    384MiB /  6144MiB |     16%      Default |\n",
      "|                               |                      |                  N/A |\n",
      "+-------------------------------+----------------------+----------------------+\n",
      "                                                                               \n",
      "+-----------------------------------------------------------------------------+\n",
      "| Processes:                                                                  |\n",
      "|  GPU   GI   CI        PID   Type   Process name                  GPU Memory |\n",
      "|        ID   ID                                                   Usage      |\n",
      "|=============================================================================|\n",
      "|    0   N/A  N/A      1000    C+G   ...ons\\Grammarly.Desktop.exe    N/A      |\n",
      "|    0   N/A  N/A     15536    C+G   Insufficient Permissions        N/A      |\n",
      "|    0   N/A  N/A     19492    C+G   Insufficient Permissions        N/A      |\n",
      "|    0   N/A  N/A     26692    C+G   ...h8wxbdkxb8p\\DCv2\\DCv2.exe    N/A      |\n",
      "+-----------------------------------------------------------------------------+\n"
     ]
    }
   ],
   "source": [
    "!nvidia-smi"
   ]
  },
  {
   "cell_type": "code",
   "execution_count": null,
   "metadata": {},
   "outputs": [],
   "source": []
  }
 ],
 "metadata": {
  "kernelspec": {
   "display_name": "ml",
   "language": "python",
   "name": "python3"
  },
  "language_info": {
   "codemirror_mode": {
    "name": "ipython",
    "version": 3
   },
   "file_extension": ".py",
   "mimetype": "text/x-python",
   "name": "python",
   "nbconvert_exporter": "python",
   "pygments_lexer": "ipython3",
   "version": "3.9.18"
  }
 },
 "nbformat": 4,
 "nbformat_minor": 2
}
