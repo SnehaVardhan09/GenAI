{
 "cells": [
  {
   "cell_type": "markdown",
   "metadata": {},
   "source": [
    "## Building a Conversational Agent with Context Awareness\n",
    "- Creating a conv agent that maintains context across multiple interactions.\n",
    "- Many Simple chatbots lacks to maintain context, leading to disjoint and frustrating user experience.\n",
    "- Solving this prob by implementing a conversational agent that can remember and refer to previous parts of the conversation.\n",
    "\n",
    "\n",
    "## Components\n",
    "- Language Model\n",
    "- Prompt template\n",
    "- History Manager\n",
    "- Message Store\n",
    "\n",
    "## Method Details\n",
    "\n",
    "1. Setting up the environment\n",
    "2. Creating the Chat History Store - to manage multiple conversation sessions.\n",
    "3. Defining the Conversation Structure \n",
    "    * A system message defining the AI's role.\n",
    "    * A placeholder for conversation history\n",
    "    * The user's input\n",
    "4. Building the Conversation Chain\n",
    "5. Interacting with the agent\n",
    "\n",
    "## Conclusion \n",
    "* Context Awareness\n",
    "* Simplicity\n",
    "* Flexibility\n",
    "* Scalability"
   ]
  },
  {
   "cell_type": "code",
   "execution_count": null,
   "metadata": {},
   "outputs": [],
   "source": []
  }
 ],
 "metadata": {
  "kernelspec": {
   "display_name": "ml",
   "language": "python",
   "name": "python3"
  },
  "language_info": {
   "name": "python",
   "version": "3.9.18"
  }
 },
 "nbformat": 4,
 "nbformat_minor": 2
}
