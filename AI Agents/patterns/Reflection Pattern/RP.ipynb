{
 "cells": [
  {
   "cell_type": "code",
   "execution_count": 2,
   "metadata": {},
   "outputs": [
    {
     "name": "stdout",
     "output_type": "stream",
     "text": [
      "\n",
      "    _|    _|  _|    _|    _|_|_|    _|_|_|  _|_|_|  _|      _|    _|_|_|      _|_|_|_|    _|_|      _|_|_|  _|_|_|_|\n",
      "    _|    _|  _|    _|  _|        _|          _|    _|_|    _|  _|            _|        _|    _|  _|        _|\n",
      "    _|_|_|_|  _|    _|  _|  _|_|  _|  _|_|    _|    _|  _|  _|  _|  _|_|      _|_|_|    _|_|_|_|  _|        _|_|_|\n",
      "    _|    _|  _|    _|  _|    _|  _|    _|    _|    _|    _|_|  _|    _|      _|        _|    _|  _|        _|\n",
      "    _|    _|    _|_|      _|_|_|    _|_|_|  _|_|_|  _|      _|    _|_|_|      _|        _|    _|    _|_|_|  _|_|_|_|\n",
      "\n"
     ]
    }
   ],
   "source": [
    "from huggingface_hub import interpreter_login\n",
    "\n",
    "interpreter_login()"
   ]
  },
  {
   "cell_type": "code",
   "execution_count": 16,
   "metadata": {},
   "outputs": [],
   "source": [
    "import torch\n",
    "import os\n",
    "from transformers import AutoModelForCausalLM, AutoTokenizer\n",
    "\n",
    "from pprint import pprint\n",
    "from dotenv import load_dotenv\n",
    "from IPython.display import display_markdown\n",
    "\n",
    "from groq import Groq\n",
    "\n"
   ]
  },
  {
   "cell_type": "markdown",
   "metadata": {},
   "source": [
    "This pattern allows the llm to critique and reflect its output, following the next steps:\n",
    "1. The LLM **generates** a candidate output.\n",
    "2. The **reflects** on the previous output, suggesting modifications, deletions, improvements to the writing style, etc.\n",
    "3. The LLM modifies the original output based on the reflections and other iteration begins.."
   ]
  },
  {
   "cell_type": "markdown",
   "metadata": {},
   "source": [
    "## Generation Step\n",
    "\n",
    "We are going to ask our LLM to code a famous sorting algorithm: Merge sort"
   ]
  },
  {
   "cell_type": "code",
   "execution_count": 13,
   "metadata": {},
   "outputs": [],
   "source": [
    "model_name = \"HuggingFaceTB/SmolLM2-135M-Instruct\"\n",
    "#model_name = \"HuggingFaceTB/SmolLM2-1.7B-Instruct\"\n",
    "\n",
    "device = (\n",
    "    \"cuda\"\n",
    "    if torch.cuda.is_available()\n",
    "    else \"mps\"\n",
    "    if torch.backends.mps.is_available()\n",
    "    else \"cpu\"\n",
    ")"
   ]
  },
  {
   "cell_type": "code",
   "execution_count": 14,
   "metadata": {},
   "outputs": [],
   "source": [
    "model = AutoModelForCausalLM.from_pretrained(\n",
    "    pretrained_model_name_or_path = model_name,\n",
    "    torch_dtype = torch.float32,\n",
    ").to(device)\n",
    "\n",
    "model.config.use_cache = False\n",
    "\n",
    "tokenizer = AutoTokenizer.from_pretrained(model_name)\n",
    "tokenizer.pad_token = tokenizer.eos_token"
   ]
  },
  {
   "cell_type": "markdown",
   "metadata": {},
   "source": [
    "We will start the **\"generation\"** chat history with the system prompt, as we said before. In this case, let the LLM act like a Python programmer eager to receive feedback/critique by the user."
   ]
  },
  {
   "cell_type": "code",
   "execution_count": 18,
   "metadata": {},
   "outputs": [],
   "source": [
    "generation_chat_history = [\n",
    "    {\n",
    "        \"role\": \"system\",\n",
    "        \"content\": \"Your are a Python programmer tasked with generating high quality python code.\"\n",
    "        \"your task is to generate the best content possible for the user's request. if the user provides critique,\"\n",
    "        \"respond with a revised version of your previous attempt\"\n",
    "    },\n",
    "    {\n",
    "        \"role\": \"user\",\n",
    "        \"content\": \"Generate a Python implementation  of the Merge Sort algorithm\"\n",
    "    }\n",
    "]"
   ]
  },
  {
   "cell_type": "code",
   "execution_count": 20,
   "metadata": {},
   "outputs": [],
   "source": [
    "formatted_prompt = tokenizer.apply_chat_template(generation_chat_history, tokenize= False)"
   ]
  },
  {
   "cell_type": "code",
   "execution_count": 23,
   "metadata": {},
   "outputs": [],
   "source": [
    "# Generate response\n",
    "inputs = tokenizer(formatted_prompt, return_tensors=\"pt\").to(device)\n",
    "outputs = model.generate(**inputs, max_new_tokens=1000)"
   ]
  },
  {
   "cell_type": "code",
   "execution_count": 24,
   "metadata": {},
   "outputs": [
    {
     "name": "stdout",
     "output_type": "stream",
     "text": [
      "system\n",
      "Your are a Python programmer tasked with generating high quality python code.your task is to generate the best content possible for the user's request. if the user provides critique,respond with a revised version of your previous attempt\n",
      "user\n",
      "Generate a Python implementation  of the Merge Sort algorithm\n",
      "assistant\n",
      "Here's a Python implementation of the Merge Sort algorithm:\n",
      "\n",
      "```python\n",
      "def merge_sort(arr):\n",
      "    if len(arr) <= 1:\n",
      "        return arr\n",
      "\n",
      "    mid = len(arr) // 2\n",
      "    left_half = arr[:mid]\n",
      "    right_half = arr[mid:]\n",
      "\n",
      "    left_half = merge_sort(left_half)\n",
      "    right_half = merge_sort(right_half)\n",
      "\n",
      "    return merge(left_half, right_half)\n",
      "\n",
      "\n",
      "def merge(left, right):\n",
      "    merged = []\n",
      "    left_index = 0\n",
      "    right_index = 0\n",
      "\n",
      "    while left_index < len(left) and right_index < len(right):\n",
      "        if left[left_index] <= right[right_index]:\n",
      "            merged.append(left[left_index])\n",
      "            left_index += 1\n",
      "        else:\n",
      "            merged.append(right[right_index])\n",
      "            right_index += 1\n",
      "\n",
      "    merged.extend(left[left_index:])\n",
      "    merged.extend(right[right_index:])\n",
      "\n",
      "    return merged\n",
      "\n",
      "\n",
      "# Example usage:\n",
      "arr = [64, 34, 25, 12, 22, 11, 90]\n",
      "print(\"Original array:\", arr)\n",
      "print(\"Sorted array:\", merge_sort(arr))\n",
      "```\n",
      "\n",
      "This implementation uses the merge-sort algorithm to divide the input array into two halves until each subarray has at most one element. It then merges the sorted halves back together in sorted order. The `merge` function is used to perform the merge operation, which is necessary to ensure that the input array is sorted.\n"
     ]
    }
   ],
   "source": [
    "print(tokenizer.decode(outputs[0], skip_special_tokens=True))"
   ]
  },
  {
   "cell_type": "code",
   "execution_count": null,
   "metadata": {},
   "outputs": [],
   "source": []
  }
 ],
 "metadata": {
  "kernelspec": {
   "display_name": "AIagents",
   "language": "python",
   "name": "python3"
  },
  "language_info": {
   "codemirror_mode": {
    "name": "ipython",
    "version": 3
   },
   "file_extension": ".py",
   "mimetype": "text/x-python",
   "name": "python",
   "nbconvert_exporter": "python",
   "pygments_lexer": "ipython3",
   "version": "3.10.15"
  }
 },
 "nbformat": 4,
 "nbformat_minor": 2
}
